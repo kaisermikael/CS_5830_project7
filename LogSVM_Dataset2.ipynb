{
 "cells": [
  {
   "cell_type": "code",
   "execution_count": 1,
   "id": "f779e731",
   "metadata": {},
   "outputs": [],
   "source": [
    "import pandas as pd\n",
    "import matplotlib.pyplot as plt\n",
    "from sklearn import svm\n",
    "from sklearn.linear_model import LogisticRegression\n",
    "import numpy as np, random\n",
    "from sklearn.metrics import precision_recall_fscore_support\n",
    "import math, seaborn as sns\n",
    "from sklearn.linear_model import LinearRegression\n",
    "import statsmodels.formula.api as smf\n",
    "from sklearn import metrics\n",
    "from sklearn.preprocessing import LabelEncoder\n",
    "from sklearn.preprocessing import StandardScaler, MinMaxScaler, RobustScaler\n",
    "from sklearn.model_selection import train_test_split\n",
    "from sklearn.metrics import roc_curve, roc_auc_score\n",
    "from sklearn.metrics import classification_report, confusion_matrix\n",
    "from sklearn.pipeline import make_pipeline"
   ]
  },
  {
   "cell_type": "code",
   "execution_count": 2,
   "id": "bb6fe3ac",
   "metadata": {},
   "outputs": [
    {
     "data": {
      "text/plain": [
       "Index(['Ptid', 'Persistency_Flag', 'Gender', 'Race', 'Ethnicity', 'Region',\n",
       "       'Age_Bucket', 'Ntm_Speciality', 'Ntm_Specialist_Flag',\n",
       "       'Ntm_Speciality_Bucket', 'Gluco_Record_Prior_Ntm',\n",
       "       'Gluco_Record_During_Rx', 'Dexa_Freq_During_Rx', 'Dexa_During_Rx',\n",
       "       'Frag_Frac_Prior_Ntm', 'Frag_Frac_During_Rx', 'Risk_Segment_Prior_Ntm',\n",
       "       'Tscore_Bucket_Prior_Ntm', 'Risk_Segment_During_Rx',\n",
       "       'Tscore_Bucket_During_Rx', 'Change_T_Score', 'Change_Risk_Segment',\n",
       "       'Adherent_Flag', 'Idn_Indicator', 'Injectable_Experience_During_Rx',\n",
       "       'Comorb_Encounter_For_Screening_For_Malignant_Neoplasms',\n",
       "       'Comorb_Encounter_For_Immunization',\n",
       "       'Comorb_Encntr_For_General_Exam_W_O_Complaint,_Susp_Or_Reprtd_Dx',\n",
       "       'Comorb_Vitamin_D_Deficiency',\n",
       "       'Comorb_Other_Joint_Disorder_Not_Elsewhere_Classified',\n",
       "       'Comorb_Encntr_For_Oth_Sp_Exam_W_O_Complaint_Suspected_Or_Reprtd_Dx',\n",
       "       'Comorb_Long_Term_Current_Drug_Therapy', 'Comorb_Dorsalgia',\n",
       "       'Comorb_Personal_History_Of_Other_Diseases_And_Conditions',\n",
       "       'Comorb_Other_Disorders_Of_Bone_Density_And_Structure',\n",
       "       'Comorb_Disorders_of_lipoprotein_metabolism_and_other_lipidemias',\n",
       "       'Comorb_Osteoporosis_without_current_pathological_fracture',\n",
       "       'Comorb_Personal_history_of_malignant_neoplasm',\n",
       "       'Comorb_Gastro_esophageal_reflux_disease',\n",
       "       'Concom_Cholesterol_And_Triglyceride_Regulating_Preparations',\n",
       "       'Concom_Narcotics', 'Concom_Systemic_Corticosteroids_Plain',\n",
       "       'Concom_Anti_Depressants_And_Mood_Stabilisers',\n",
       "       'Concom_Fluoroquinolones', 'Concom_Cephalosporins',\n",
       "       'Concom_Macrolides_And_Similar_Types',\n",
       "       'Concom_Broad_Spectrum_Penicillins', 'Concom_Anaesthetics_General',\n",
       "       'Concom_Viral_Vaccines', 'Risk_Type_1_Insulin_Dependent_Diabetes',\n",
       "       'Risk_Osteogenesis_Imperfecta', 'Risk_Rheumatoid_Arthritis',\n",
       "       'Risk_Untreated_Chronic_Hyperthyroidism',\n",
       "       'Risk_Untreated_Chronic_Hypogonadism', 'Risk_Untreated_Early_Menopause',\n",
       "       'Risk_Patient_Parent_Fractured_Their_Hip', 'Risk_Smoking_Tobacco',\n",
       "       'Risk_Chronic_Malnutrition_Or_Malabsorption',\n",
       "       'Risk_Chronic_Liver_Disease', 'Risk_Family_History_Of_Osteoporosis',\n",
       "       'Risk_Low_Calcium_Intake', 'Risk_Vitamin_D_Insufficiency',\n",
       "       'Risk_Poor_Health_Frailty', 'Risk_Excessive_Thinness',\n",
       "       'Risk_Hysterectomy_Oophorectomy', 'Risk_Estrogen_Deficiency',\n",
       "       'Risk_Immobilization', 'Risk_Recurring_Falls', 'Count_Of_Risks'],\n",
       "      dtype='object')"
      ]
     },
     "execution_count": 2,
     "metadata": {},
     "output_type": "execute_result"
    }
   ],
   "source": [
    "df4 = pd.read_csv('Persistent_vs_NonPersistent.csv')\n",
    "df4.columns"
   ]
  },
  {
   "cell_type": "code",
   "execution_count": 3,
   "id": "13815ca2",
   "metadata": {},
   "outputs": [
    {
     "data": {
      "text/plain": [
       "69"
      ]
     },
     "execution_count": 3,
     "metadata": {},
     "output_type": "execute_result"
    }
   ],
   "source": [
    "len(df4.columns)"
   ]
  },
  {
   "cell_type": "code",
   "execution_count": 4,
   "id": "a704bfc9",
   "metadata": {},
   "outputs": [
    {
     "data": {
      "text/html": [
       "<div>\n",
       "<style scoped>\n",
       "    .dataframe tbody tr th:only-of-type {\n",
       "        vertical-align: middle;\n",
       "    }\n",
       "\n",
       "    .dataframe tbody tr th {\n",
       "        vertical-align: top;\n",
       "    }\n",
       "\n",
       "    .dataframe thead th {\n",
       "        text-align: right;\n",
       "    }\n",
       "</style>\n",
       "<table border=\"1\" class=\"dataframe\">\n",
       "  <thead>\n",
       "    <tr style=\"text-align: right;\">\n",
       "      <th></th>\n",
       "      <th>Ptid</th>\n",
       "      <th>Persistency_Flag</th>\n",
       "      <th>Gender</th>\n",
       "      <th>Race</th>\n",
       "      <th>Ethnicity</th>\n",
       "      <th>Region</th>\n",
       "      <th>Age_Bucket</th>\n",
       "      <th>Ntm_Speciality</th>\n",
       "      <th>Ntm_Specialist_Flag</th>\n",
       "      <th>Ntm_Speciality_Bucket</th>\n",
       "      <th>...</th>\n",
       "      <th>Risk_Family_History_Of_Osteoporosis</th>\n",
       "      <th>Risk_Low_Calcium_Intake</th>\n",
       "      <th>Risk_Vitamin_D_Insufficiency</th>\n",
       "      <th>Risk_Poor_Health_Frailty</th>\n",
       "      <th>Risk_Excessive_Thinness</th>\n",
       "      <th>Risk_Hysterectomy_Oophorectomy</th>\n",
       "      <th>Risk_Estrogen_Deficiency</th>\n",
       "      <th>Risk_Immobilization</th>\n",
       "      <th>Risk_Recurring_Falls</th>\n",
       "      <th>Count_Of_Risks</th>\n",
       "    </tr>\n",
       "  </thead>\n",
       "  <tbody>\n",
       "    <tr>\n",
       "      <th>0</th>\n",
       "      <td>P1</td>\n",
       "      <td>Persistent</td>\n",
       "      <td>Male</td>\n",
       "      <td>Caucasian</td>\n",
       "      <td>Not Hispanic</td>\n",
       "      <td>West</td>\n",
       "      <td>&gt;75</td>\n",
       "      <td>GENERAL PRACTITIONER</td>\n",
       "      <td>Others</td>\n",
       "      <td>OB/GYN/Others/PCP/Unknown</td>\n",
       "      <td>...</td>\n",
       "      <td>N</td>\n",
       "      <td>N</td>\n",
       "      <td>N</td>\n",
       "      <td>N</td>\n",
       "      <td>N</td>\n",
       "      <td>N</td>\n",
       "      <td>N</td>\n",
       "      <td>N</td>\n",
       "      <td>N</td>\n",
       "      <td>0</td>\n",
       "    </tr>\n",
       "    <tr>\n",
       "      <th>1</th>\n",
       "      <td>P2</td>\n",
       "      <td>Non-Persistent</td>\n",
       "      <td>Male</td>\n",
       "      <td>Asian</td>\n",
       "      <td>Not Hispanic</td>\n",
       "      <td>West</td>\n",
       "      <td>55-65</td>\n",
       "      <td>GENERAL PRACTITIONER</td>\n",
       "      <td>Others</td>\n",
       "      <td>OB/GYN/Others/PCP/Unknown</td>\n",
       "      <td>...</td>\n",
       "      <td>N</td>\n",
       "      <td>N</td>\n",
       "      <td>N</td>\n",
       "      <td>N</td>\n",
       "      <td>N</td>\n",
       "      <td>N</td>\n",
       "      <td>N</td>\n",
       "      <td>N</td>\n",
       "      <td>N</td>\n",
       "      <td>0</td>\n",
       "    </tr>\n",
       "    <tr>\n",
       "      <th>2</th>\n",
       "      <td>P3</td>\n",
       "      <td>Non-Persistent</td>\n",
       "      <td>Female</td>\n",
       "      <td>Other/Unknown</td>\n",
       "      <td>Hispanic</td>\n",
       "      <td>Midwest</td>\n",
       "      <td>65-75</td>\n",
       "      <td>GENERAL PRACTITIONER</td>\n",
       "      <td>Others</td>\n",
       "      <td>OB/GYN/Others/PCP/Unknown</td>\n",
       "      <td>...</td>\n",
       "      <td>N</td>\n",
       "      <td>Y</td>\n",
       "      <td>N</td>\n",
       "      <td>N</td>\n",
       "      <td>N</td>\n",
       "      <td>N</td>\n",
       "      <td>N</td>\n",
       "      <td>N</td>\n",
       "      <td>N</td>\n",
       "      <td>2</td>\n",
       "    </tr>\n",
       "    <tr>\n",
       "      <th>3</th>\n",
       "      <td>P4</td>\n",
       "      <td>Non-Persistent</td>\n",
       "      <td>Female</td>\n",
       "      <td>Caucasian</td>\n",
       "      <td>Not Hispanic</td>\n",
       "      <td>Midwest</td>\n",
       "      <td>&gt;75</td>\n",
       "      <td>GENERAL PRACTITIONER</td>\n",
       "      <td>Others</td>\n",
       "      <td>OB/GYN/Others/PCP/Unknown</td>\n",
       "      <td>...</td>\n",
       "      <td>N</td>\n",
       "      <td>N</td>\n",
       "      <td>N</td>\n",
       "      <td>N</td>\n",
       "      <td>N</td>\n",
       "      <td>N</td>\n",
       "      <td>N</td>\n",
       "      <td>N</td>\n",
       "      <td>N</td>\n",
       "      <td>1</td>\n",
       "    </tr>\n",
       "    <tr>\n",
       "      <th>4</th>\n",
       "      <td>P5</td>\n",
       "      <td>Non-Persistent</td>\n",
       "      <td>Female</td>\n",
       "      <td>Caucasian</td>\n",
       "      <td>Not Hispanic</td>\n",
       "      <td>Midwest</td>\n",
       "      <td>&gt;75</td>\n",
       "      <td>GENERAL PRACTITIONER</td>\n",
       "      <td>Others</td>\n",
       "      <td>OB/GYN/Others/PCP/Unknown</td>\n",
       "      <td>...</td>\n",
       "      <td>N</td>\n",
       "      <td>N</td>\n",
       "      <td>N</td>\n",
       "      <td>N</td>\n",
       "      <td>N</td>\n",
       "      <td>N</td>\n",
       "      <td>N</td>\n",
       "      <td>N</td>\n",
       "      <td>N</td>\n",
       "      <td>1</td>\n",
       "    </tr>\n",
       "    <tr>\n",
       "      <th>...</th>\n",
       "      <td>...</td>\n",
       "      <td>...</td>\n",
       "      <td>...</td>\n",
       "      <td>...</td>\n",
       "      <td>...</td>\n",
       "      <td>...</td>\n",
       "      <td>...</td>\n",
       "      <td>...</td>\n",
       "      <td>...</td>\n",
       "      <td>...</td>\n",
       "      <td>...</td>\n",
       "      <td>...</td>\n",
       "      <td>...</td>\n",
       "      <td>...</td>\n",
       "      <td>...</td>\n",
       "      <td>...</td>\n",
       "      <td>...</td>\n",
       "      <td>...</td>\n",
       "      <td>...</td>\n",
       "      <td>...</td>\n",
       "      <td>...</td>\n",
       "    </tr>\n",
       "    <tr>\n",
       "      <th>3419</th>\n",
       "      <td>P3420</td>\n",
       "      <td>Persistent</td>\n",
       "      <td>Female</td>\n",
       "      <td>Caucasian</td>\n",
       "      <td>Not Hispanic</td>\n",
       "      <td>South</td>\n",
       "      <td>&gt;75</td>\n",
       "      <td>GENERAL PRACTITIONER</td>\n",
       "      <td>Others</td>\n",
       "      <td>OB/GYN/Others/PCP/Unknown</td>\n",
       "      <td>...</td>\n",
       "      <td>N</td>\n",
       "      <td>N</td>\n",
       "      <td>Y</td>\n",
       "      <td>N</td>\n",
       "      <td>N</td>\n",
       "      <td>N</td>\n",
       "      <td>N</td>\n",
       "      <td>N</td>\n",
       "      <td>N</td>\n",
       "      <td>1</td>\n",
       "    </tr>\n",
       "    <tr>\n",
       "      <th>3420</th>\n",
       "      <td>P3421</td>\n",
       "      <td>Persistent</td>\n",
       "      <td>Female</td>\n",
       "      <td>Caucasian</td>\n",
       "      <td>Not Hispanic</td>\n",
       "      <td>South</td>\n",
       "      <td>&gt;75</td>\n",
       "      <td>Unknown</td>\n",
       "      <td>Others</td>\n",
       "      <td>OB/GYN/Others/PCP/Unknown</td>\n",
       "      <td>...</td>\n",
       "      <td>N</td>\n",
       "      <td>N</td>\n",
       "      <td>N</td>\n",
       "      <td>N</td>\n",
       "      <td>N</td>\n",
       "      <td>N</td>\n",
       "      <td>N</td>\n",
       "      <td>N</td>\n",
       "      <td>N</td>\n",
       "      <td>0</td>\n",
       "    </tr>\n",
       "    <tr>\n",
       "      <th>3421</th>\n",
       "      <td>P3422</td>\n",
       "      <td>Persistent</td>\n",
       "      <td>Female</td>\n",
       "      <td>Caucasian</td>\n",
       "      <td>Not Hispanic</td>\n",
       "      <td>South</td>\n",
       "      <td>&gt;75</td>\n",
       "      <td>ENDOCRINOLOGY</td>\n",
       "      <td>Specialist</td>\n",
       "      <td>Endo/Onc/Uro</td>\n",
       "      <td>...</td>\n",
       "      <td>N</td>\n",
       "      <td>N</td>\n",
       "      <td>Y</td>\n",
       "      <td>N</td>\n",
       "      <td>N</td>\n",
       "      <td>N</td>\n",
       "      <td>N</td>\n",
       "      <td>N</td>\n",
       "      <td>N</td>\n",
       "      <td>1</td>\n",
       "    </tr>\n",
       "    <tr>\n",
       "      <th>3422</th>\n",
       "      <td>P3423</td>\n",
       "      <td>Non-Persistent</td>\n",
       "      <td>Female</td>\n",
       "      <td>Caucasian</td>\n",
       "      <td>Not Hispanic</td>\n",
       "      <td>South</td>\n",
       "      <td>55-65</td>\n",
       "      <td>Unknown</td>\n",
       "      <td>Others</td>\n",
       "      <td>OB/GYN/Others/PCP/Unknown</td>\n",
       "      <td>...</td>\n",
       "      <td>N</td>\n",
       "      <td>N</td>\n",
       "      <td>N</td>\n",
       "      <td>N</td>\n",
       "      <td>N</td>\n",
       "      <td>N</td>\n",
       "      <td>N</td>\n",
       "      <td>N</td>\n",
       "      <td>N</td>\n",
       "      <td>0</td>\n",
       "    </tr>\n",
       "    <tr>\n",
       "      <th>3423</th>\n",
       "      <td>P3424</td>\n",
       "      <td>Non-Persistent</td>\n",
       "      <td>Female</td>\n",
       "      <td>Caucasian</td>\n",
       "      <td>Not Hispanic</td>\n",
       "      <td>South</td>\n",
       "      <td>65-75</td>\n",
       "      <td>Unknown</td>\n",
       "      <td>Others</td>\n",
       "      <td>OB/GYN/Others/PCP/Unknown</td>\n",
       "      <td>...</td>\n",
       "      <td>N</td>\n",
       "      <td>N</td>\n",
       "      <td>Y</td>\n",
       "      <td>N</td>\n",
       "      <td>N</td>\n",
       "      <td>N</td>\n",
       "      <td>N</td>\n",
       "      <td>N</td>\n",
       "      <td>N</td>\n",
       "      <td>1</td>\n",
       "    </tr>\n",
       "  </tbody>\n",
       "</table>\n",
       "<p>3424 rows × 69 columns</p>\n",
       "</div>"
      ],
      "text/plain": [
       "       Ptid Persistency_Flag  Gender           Race     Ethnicity   Region  \\\n",
       "0        P1       Persistent    Male      Caucasian  Not Hispanic     West   \n",
       "1        P2   Non-Persistent    Male          Asian  Not Hispanic     West   \n",
       "2        P3   Non-Persistent  Female  Other/Unknown      Hispanic  Midwest   \n",
       "3        P4   Non-Persistent  Female      Caucasian  Not Hispanic  Midwest   \n",
       "4        P5   Non-Persistent  Female      Caucasian  Not Hispanic  Midwest   \n",
       "...     ...              ...     ...            ...           ...      ...   \n",
       "3419  P3420       Persistent  Female      Caucasian  Not Hispanic    South   \n",
       "3420  P3421       Persistent  Female      Caucasian  Not Hispanic    South   \n",
       "3421  P3422       Persistent  Female      Caucasian  Not Hispanic    South   \n",
       "3422  P3423   Non-Persistent  Female      Caucasian  Not Hispanic    South   \n",
       "3423  P3424   Non-Persistent  Female      Caucasian  Not Hispanic    South   \n",
       "\n",
       "     Age_Bucket        Ntm_Speciality Ntm_Specialist_Flag  \\\n",
       "0           >75  GENERAL PRACTITIONER              Others   \n",
       "1         55-65  GENERAL PRACTITIONER              Others   \n",
       "2         65-75  GENERAL PRACTITIONER              Others   \n",
       "3           >75  GENERAL PRACTITIONER              Others   \n",
       "4           >75  GENERAL PRACTITIONER              Others   \n",
       "...         ...                   ...                 ...   \n",
       "3419        >75  GENERAL PRACTITIONER              Others   \n",
       "3420        >75               Unknown              Others   \n",
       "3421        >75         ENDOCRINOLOGY          Specialist   \n",
       "3422      55-65               Unknown              Others   \n",
       "3423      65-75               Unknown              Others   \n",
       "\n",
       "          Ntm_Speciality_Bucket  ... Risk_Family_History_Of_Osteoporosis  \\\n",
       "0     OB/GYN/Others/PCP/Unknown  ...                                   N   \n",
       "1     OB/GYN/Others/PCP/Unknown  ...                                   N   \n",
       "2     OB/GYN/Others/PCP/Unknown  ...                                   N   \n",
       "3     OB/GYN/Others/PCP/Unknown  ...                                   N   \n",
       "4     OB/GYN/Others/PCP/Unknown  ...                                   N   \n",
       "...                         ...  ...                                 ...   \n",
       "3419  OB/GYN/Others/PCP/Unknown  ...                                   N   \n",
       "3420  OB/GYN/Others/PCP/Unknown  ...                                   N   \n",
       "3421               Endo/Onc/Uro  ...                                   N   \n",
       "3422  OB/GYN/Others/PCP/Unknown  ...                                   N   \n",
       "3423  OB/GYN/Others/PCP/Unknown  ...                                   N   \n",
       "\n",
       "     Risk_Low_Calcium_Intake  Risk_Vitamin_D_Insufficiency  \\\n",
       "0                          N                             N   \n",
       "1                          N                             N   \n",
       "2                          Y                             N   \n",
       "3                          N                             N   \n",
       "4                          N                             N   \n",
       "...                      ...                           ...   \n",
       "3419                       N                             Y   \n",
       "3420                       N                             N   \n",
       "3421                       N                             Y   \n",
       "3422                       N                             N   \n",
       "3423                       N                             Y   \n",
       "\n",
       "     Risk_Poor_Health_Frailty Risk_Excessive_Thinness  \\\n",
       "0                           N                       N   \n",
       "1                           N                       N   \n",
       "2                           N                       N   \n",
       "3                           N                       N   \n",
       "4                           N                       N   \n",
       "...                       ...                     ...   \n",
       "3419                        N                       N   \n",
       "3420                        N                       N   \n",
       "3421                        N                       N   \n",
       "3422                        N                       N   \n",
       "3423                        N                       N   \n",
       "\n",
       "     Risk_Hysterectomy_Oophorectomy Risk_Estrogen_Deficiency  \\\n",
       "0                                 N                        N   \n",
       "1                                 N                        N   \n",
       "2                                 N                        N   \n",
       "3                                 N                        N   \n",
       "4                                 N                        N   \n",
       "...                             ...                      ...   \n",
       "3419                              N                        N   \n",
       "3420                              N                        N   \n",
       "3421                              N                        N   \n",
       "3422                              N                        N   \n",
       "3423                              N                        N   \n",
       "\n",
       "     Risk_Immobilization Risk_Recurring_Falls Count_Of_Risks  \n",
       "0                      N                    N              0  \n",
       "1                      N                    N              0  \n",
       "2                      N                    N              2  \n",
       "3                      N                    N              1  \n",
       "4                      N                    N              1  \n",
       "...                  ...                  ...            ...  \n",
       "3419                   N                    N              1  \n",
       "3420                   N                    N              0  \n",
       "3421                   N                    N              1  \n",
       "3422                   N                    N              0  \n",
       "3423                   N                    N              1  \n",
       "\n",
       "[3424 rows x 69 columns]"
      ]
     },
     "execution_count": 4,
     "metadata": {},
     "output_type": "execute_result"
    }
   ],
   "source": [
    "df4"
   ]
  },
  {
   "cell_type": "code",
   "execution_count": 5,
   "id": "c26cd1a2",
   "metadata": {},
   "outputs": [
    {
     "name": "stdout",
     "output_type": "stream",
     "text": [
      "Ptid 3424\n",
      "Persistency_Flag 2\n",
      "Gender 2\n",
      "Race 4\n",
      "Ethnicity 3\n",
      "Region 5\n",
      "Age_Bucket 4\n",
      "Ntm_Speciality 36\n",
      "Ntm_Specialist_Flag 2\n",
      "Ntm_Speciality_Bucket 3\n",
      "Gluco_Record_Prior_Ntm 2\n",
      "Gluco_Record_During_Rx 2\n",
      "Dexa_Freq_During_Rx 58\n",
      "Dexa_During_Rx 2\n",
      "Frag_Frac_Prior_Ntm 2\n",
      "Frag_Frac_During_Rx 2\n",
      "Risk_Segment_Prior_Ntm 2\n",
      "Tscore_Bucket_Prior_Ntm 2\n",
      "Risk_Segment_During_Rx 3\n",
      "Tscore_Bucket_During_Rx 3\n",
      "Change_T_Score 4\n",
      "Change_Risk_Segment 4\n",
      "Adherent_Flag 2\n",
      "Idn_Indicator 2\n",
      "Injectable_Experience_During_Rx 2\n",
      "Comorb_Encounter_For_Screening_For_Malignant_Neoplasms 2\n",
      "Comorb_Encounter_For_Immunization 2\n",
      "Comorb_Encntr_For_General_Exam_W_O_Complaint,_Susp_Or_Reprtd_Dx 2\n",
      "Comorb_Vitamin_D_Deficiency 2\n",
      "Comorb_Other_Joint_Disorder_Not_Elsewhere_Classified 2\n",
      "Comorb_Encntr_For_Oth_Sp_Exam_W_O_Complaint_Suspected_Or_Reprtd_Dx 2\n",
      "Comorb_Long_Term_Current_Drug_Therapy 2\n",
      "Comorb_Dorsalgia 2\n",
      "Comorb_Personal_History_Of_Other_Diseases_And_Conditions 2\n",
      "Comorb_Other_Disorders_Of_Bone_Density_And_Structure 2\n",
      "Comorb_Disorders_of_lipoprotein_metabolism_and_other_lipidemias 2\n",
      "Comorb_Osteoporosis_without_current_pathological_fracture 2\n",
      "Comorb_Personal_history_of_malignant_neoplasm 2\n",
      "Comorb_Gastro_esophageal_reflux_disease 2\n",
      "Concom_Cholesterol_And_Triglyceride_Regulating_Preparations 2\n",
      "Concom_Narcotics 2\n",
      "Concom_Systemic_Corticosteroids_Plain 2\n",
      "Concom_Anti_Depressants_And_Mood_Stabilisers 2\n",
      "Concom_Fluoroquinolones 2\n",
      "Concom_Cephalosporins 2\n",
      "Concom_Macrolides_And_Similar_Types 2\n",
      "Concom_Broad_Spectrum_Penicillins 2\n",
      "Concom_Anaesthetics_General 2\n",
      "Concom_Viral_Vaccines 2\n",
      "Risk_Type_1_Insulin_Dependent_Diabetes 2\n",
      "Risk_Osteogenesis_Imperfecta 2\n",
      "Risk_Rheumatoid_Arthritis 2\n",
      "Risk_Untreated_Chronic_Hyperthyroidism 2\n",
      "Risk_Untreated_Chronic_Hypogonadism 2\n",
      "Risk_Untreated_Early_Menopause 2\n",
      "Risk_Patient_Parent_Fractured_Their_Hip 2\n",
      "Risk_Smoking_Tobacco 2\n",
      "Risk_Chronic_Malnutrition_Or_Malabsorption 2\n",
      "Risk_Chronic_Liver_Disease 2\n",
      "Risk_Family_History_Of_Osteoporosis 2\n",
      "Risk_Low_Calcium_Intake 2\n",
      "Risk_Vitamin_D_Insufficiency 2\n",
      "Risk_Poor_Health_Frailty 2\n",
      "Risk_Excessive_Thinness 2\n",
      "Risk_Hysterectomy_Oophorectomy 2\n",
      "Risk_Estrogen_Deficiency 2\n",
      "Risk_Immobilization 2\n",
      "Risk_Recurring_Falls 2\n",
      "Count_Of_Risks 8\n"
     ]
    }
   ],
   "source": [
    "for column in df4.columns:\n",
    "    print(column, len(df4[column].unique()))"
   ]
  },
  {
   "cell_type": "code",
   "execution_count": 6,
   "id": "921fe382",
   "metadata": {},
   "outputs": [
    {
     "data": {
      "text/plain": [
       "<bound method DataFrame.corr of        Ptid Persistency_Flag  Gender           Race     Ethnicity   Region  \\\n",
       "0        P1       Persistent    Male      Caucasian  Not Hispanic     West   \n",
       "1        P2   Non-Persistent    Male          Asian  Not Hispanic     West   \n",
       "2        P3   Non-Persistent  Female  Other/Unknown      Hispanic  Midwest   \n",
       "3        P4   Non-Persistent  Female      Caucasian  Not Hispanic  Midwest   \n",
       "4        P5   Non-Persistent  Female      Caucasian  Not Hispanic  Midwest   \n",
       "...     ...              ...     ...            ...           ...      ...   \n",
       "3419  P3420       Persistent  Female      Caucasian  Not Hispanic    South   \n",
       "3420  P3421       Persistent  Female      Caucasian  Not Hispanic    South   \n",
       "3421  P3422       Persistent  Female      Caucasian  Not Hispanic    South   \n",
       "3422  P3423   Non-Persistent  Female      Caucasian  Not Hispanic    South   \n",
       "3423  P3424   Non-Persistent  Female      Caucasian  Not Hispanic    South   \n",
       "\n",
       "     Age_Bucket        Ntm_Speciality Ntm_Specialist_Flag  \\\n",
       "0           >75  GENERAL PRACTITIONER              Others   \n",
       "1         55-65  GENERAL PRACTITIONER              Others   \n",
       "2         65-75  GENERAL PRACTITIONER              Others   \n",
       "3           >75  GENERAL PRACTITIONER              Others   \n",
       "4           >75  GENERAL PRACTITIONER              Others   \n",
       "...         ...                   ...                 ...   \n",
       "3419        >75  GENERAL PRACTITIONER              Others   \n",
       "3420        >75               Unknown              Others   \n",
       "3421        >75         ENDOCRINOLOGY          Specialist   \n",
       "3422      55-65               Unknown              Others   \n",
       "3423      65-75               Unknown              Others   \n",
       "\n",
       "          Ntm_Speciality_Bucket  ... Risk_Family_History_Of_Osteoporosis  \\\n",
       "0     OB/GYN/Others/PCP/Unknown  ...                                   N   \n",
       "1     OB/GYN/Others/PCP/Unknown  ...                                   N   \n",
       "2     OB/GYN/Others/PCP/Unknown  ...                                   N   \n",
       "3     OB/GYN/Others/PCP/Unknown  ...                                   N   \n",
       "4     OB/GYN/Others/PCP/Unknown  ...                                   N   \n",
       "...                         ...  ...                                 ...   \n",
       "3419  OB/GYN/Others/PCP/Unknown  ...                                   N   \n",
       "3420  OB/GYN/Others/PCP/Unknown  ...                                   N   \n",
       "3421               Endo/Onc/Uro  ...                                   N   \n",
       "3422  OB/GYN/Others/PCP/Unknown  ...                                   N   \n",
       "3423  OB/GYN/Others/PCP/Unknown  ...                                   N   \n",
       "\n",
       "     Risk_Low_Calcium_Intake  Risk_Vitamin_D_Insufficiency  \\\n",
       "0                          N                             N   \n",
       "1                          N                             N   \n",
       "2                          Y                             N   \n",
       "3                          N                             N   \n",
       "4                          N                             N   \n",
       "...                      ...                           ...   \n",
       "3419                       N                             Y   \n",
       "3420                       N                             N   \n",
       "3421                       N                             Y   \n",
       "3422                       N                             N   \n",
       "3423                       N                             Y   \n",
       "\n",
       "     Risk_Poor_Health_Frailty Risk_Excessive_Thinness  \\\n",
       "0                           N                       N   \n",
       "1                           N                       N   \n",
       "2                           N                       N   \n",
       "3                           N                       N   \n",
       "4                           N                       N   \n",
       "...                       ...                     ...   \n",
       "3419                        N                       N   \n",
       "3420                        N                       N   \n",
       "3421                        N                       N   \n",
       "3422                        N                       N   \n",
       "3423                        N                       N   \n",
       "\n",
       "     Risk_Hysterectomy_Oophorectomy Risk_Estrogen_Deficiency  \\\n",
       "0                                 N                        N   \n",
       "1                                 N                        N   \n",
       "2                                 N                        N   \n",
       "3                                 N                        N   \n",
       "4                                 N                        N   \n",
       "...                             ...                      ...   \n",
       "3419                              N                        N   \n",
       "3420                              N                        N   \n",
       "3421                              N                        N   \n",
       "3422                              N                        N   \n",
       "3423                              N                        N   \n",
       "\n",
       "     Risk_Immobilization Risk_Recurring_Falls Count_Of_Risks  \n",
       "0                      N                    N              0  \n",
       "1                      N                    N              0  \n",
       "2                      N                    N              2  \n",
       "3                      N                    N              1  \n",
       "4                      N                    N              1  \n",
       "...                  ...                  ...            ...  \n",
       "3419                   N                    N              1  \n",
       "3420                   N                    N              0  \n",
       "3421                   N                    N              1  \n",
       "3422                   N                    N              0  \n",
       "3423                   N                    N              1  \n",
       "\n",
       "[3424 rows x 69 columns]>"
      ]
     },
     "execution_count": 6,
     "metadata": {},
     "output_type": "execute_result"
    }
   ],
   "source": [
    "df4.corr"
   ]
  },
  {
   "cell_type": "code",
   "execution_count": 7,
   "id": "3c839060",
   "metadata": {},
   "outputs": [],
   "source": [
    "nulls = df4.isnull().any()\n",
    "for i in range(len(nulls)): \n",
    "    if nulls[i] == True : print(nulls[i])\n",
    "# No null values in the dataset"
   ]
  },
  {
   "cell_type": "code",
   "execution_count": 8,
   "id": "e1f8a0f4",
   "metadata": {},
   "outputs": [
    {
     "data": {
      "text/plain": [
       "<AxesSubplot:xlabel='Persistency_Flag', ylabel='count'>"
      ]
     },
     "execution_count": 8,
     "metadata": {},
     "output_type": "execute_result"
    },
    {
     "data": {
      "image/png": "[encoded data removed]",
      "text/plain": [
       "<Figure size 640x480 with 1 Axes>"
      ]
     },
     "metadata": {},
     "output_type": "display_data"
    }
   ],
   "source": [
    "#Plotting Persistent vs NonPersistent values count\n",
    "sns.countplot(x = \"Persistency_Flag\", data = df4)"
   ]
  },
  {
   "cell_type": "code",
   "execution_count": 9,
   "id": "aa488477",
   "metadata": {},
   "outputs": [
    {
     "data": {
      "text/html": [
       "<div>\n",
       "<style scoped>\n",
       "    .dataframe tbody tr th:only-of-type {\n",
       "        vertical-align: middle;\n",
       "    }\n",
       "\n",
       "    .dataframe tbody tr th {\n",
       "        vertical-align: top;\n",
       "    }\n",
       "\n",
       "    .dataframe thead th {\n",
       "        text-align: right;\n",
       "    }\n",
       "</style>\n",
       "<table border=\"1\" class=\"dataframe\">\n",
       "  <thead>\n",
       "    <tr style=\"text-align: right;\">\n",
       "      <th></th>\n",
       "      <th>Dexa_Freq_During_Rx</th>\n",
       "      <th>Count_Of_Risks</th>\n",
       "      <th>Ptid_P1</th>\n",
       "      <th>Ptid_P10</th>\n",
       "      <th>Ptid_P100</th>\n",
       "      <th>Ptid_P1000</th>\n",
       "      <th>Ptid_P1001</th>\n",
       "      <th>Ptid_P1002</th>\n",
       "      <th>Ptid_P1003</th>\n",
       "      <th>Ptid_P1004</th>\n",
       "      <th>...</th>\n",
       "      <th>Risk_Excessive_Thinness_N</th>\n",
       "      <th>Risk_Excessive_Thinness_Y</th>\n",
       "      <th>Risk_Hysterectomy_Oophorectomy_N</th>\n",
       "      <th>Risk_Hysterectomy_Oophorectomy_Y</th>\n",
       "      <th>Risk_Estrogen_Deficiency_N</th>\n",
       "      <th>Risk_Estrogen_Deficiency_Y</th>\n",
       "      <th>Risk_Immobilization_N</th>\n",
       "      <th>Risk_Immobilization_Y</th>\n",
       "      <th>Risk_Recurring_Falls_N</th>\n",
       "      <th>Risk_Recurring_Falls_Y</th>\n",
       "    </tr>\n",
       "  </thead>\n",
       "  <tbody>\n",
       "    <tr>\n",
       "      <th>0</th>\n",
       "      <td>0</td>\n",
       "      <td>0</td>\n",
       "      <td>1</td>\n",
       "      <td>0</td>\n",
       "      <td>0</td>\n",
       "      <td>0</td>\n",
       "      <td>0</td>\n",
       "      <td>0</td>\n",
       "      <td>0</td>\n",
       "      <td>0</td>\n",
       "      <td>...</td>\n",
       "      <td>1</td>\n",
       "      <td>0</td>\n",
       "      <td>1</td>\n",
       "      <td>0</td>\n",
       "      <td>1</td>\n",
       "      <td>0</td>\n",
       "      <td>1</td>\n",
       "      <td>0</td>\n",
       "      <td>1</td>\n",
       "      <td>0</td>\n",
       "    </tr>\n",
       "    <tr>\n",
       "      <th>1</th>\n",
       "      <td>0</td>\n",
       "      <td>0</td>\n",
       "      <td>0</td>\n",
       "      <td>0</td>\n",
       "      <td>0</td>\n",
       "      <td>0</td>\n",
       "      <td>0</td>\n",
       "      <td>0</td>\n",
       "      <td>0</td>\n",
       "      <td>0</td>\n",
       "      <td>...</td>\n",
       "      <td>1</td>\n",
       "      <td>0</td>\n",
       "      <td>1</td>\n",
       "      <td>0</td>\n",
       "      <td>1</td>\n",
       "      <td>0</td>\n",
       "      <td>1</td>\n",
       "      <td>0</td>\n",
       "      <td>1</td>\n",
       "      <td>0</td>\n",
       "    </tr>\n",
       "    <tr>\n",
       "      <th>2</th>\n",
       "      <td>0</td>\n",
       "      <td>2</td>\n",
       "      <td>0</td>\n",
       "      <td>0</td>\n",
       "      <td>0</td>\n",
       "      <td>0</td>\n",
       "      <td>0</td>\n",
       "      <td>0</td>\n",
       "      <td>0</td>\n",
       "      <td>0</td>\n",
       "      <td>...</td>\n",
       "      <td>1</td>\n",
       "      <td>0</td>\n",
       "      <td>1</td>\n",
       "      <td>0</td>\n",
       "      <td>1</td>\n",
       "      <td>0</td>\n",
       "      <td>1</td>\n",
       "      <td>0</td>\n",
       "      <td>1</td>\n",
       "      <td>0</td>\n",
       "    </tr>\n",
       "    <tr>\n",
       "      <th>3</th>\n",
       "      <td>0</td>\n",
       "      <td>1</td>\n",
       "      <td>0</td>\n",
       "      <td>0</td>\n",
       "      <td>0</td>\n",
       "      <td>0</td>\n",
       "      <td>0</td>\n",
       "      <td>0</td>\n",
       "      <td>0</td>\n",
       "      <td>0</td>\n",
       "      <td>...</td>\n",
       "      <td>1</td>\n",
       "      <td>0</td>\n",
       "      <td>1</td>\n",
       "      <td>0</td>\n",
       "      <td>1</td>\n",
       "      <td>0</td>\n",
       "      <td>1</td>\n",
       "      <td>0</td>\n",
       "      <td>1</td>\n",
       "      <td>0</td>\n",
       "    </tr>\n",
       "    <tr>\n",
       "      <th>4</th>\n",
       "      <td>0</td>\n",
       "      <td>1</td>\n",
       "      <td>0</td>\n",
       "      <td>0</td>\n",
       "      <td>0</td>\n",
       "      <td>0</td>\n",
       "      <td>0</td>\n",
       "      <td>0</td>\n",
       "      <td>0</td>\n",
       "      <td>0</td>\n",
       "      <td>...</td>\n",
       "      <td>1</td>\n",
       "      <td>0</td>\n",
       "      <td>1</td>\n",
       "      <td>0</td>\n",
       "      <td>1</td>\n",
       "      <td>0</td>\n",
       "      <td>1</td>\n",
       "      <td>0</td>\n",
       "      <td>1</td>\n",
       "      <td>0</td>\n",
       "    </tr>\n",
       "    <tr>\n",
       "      <th>...</th>\n",
       "      <td>...</td>\n",
       "      <td>...</td>\n",
       "      <td>...</td>\n",
       "      <td>...</td>\n",
       "      <td>...</td>\n",
       "      <td>...</td>\n",
       "      <td>...</td>\n",
       "      <td>...</td>\n",
       "      <td>...</td>\n",
       "      <td>...</td>\n",
       "      <td>...</td>\n",
       "      <td>...</td>\n",
       "      <td>...</td>\n",
       "      <td>...</td>\n",
       "      <td>...</td>\n",
       "      <td>...</td>\n",
       "      <td>...</td>\n",
       "      <td>...</td>\n",
       "      <td>...</td>\n",
       "      <td>...</td>\n",
       "      <td>...</td>\n",
       "    </tr>\n",
       "    <tr>\n",
       "      <th>3419</th>\n",
       "      <td>0</td>\n",
       "      <td>1</td>\n",
       "      <td>0</td>\n",
       "      <td>0</td>\n",
       "      <td>0</td>\n",
       "      <td>0</td>\n",
       "      <td>0</td>\n",
       "      <td>0</td>\n",
       "      <td>0</td>\n",
       "      <td>0</td>\n",
       "      <td>...</td>\n",
       "      <td>1</td>\n",
       "      <td>0</td>\n",
       "      <td>1</td>\n",
       "      <td>0</td>\n",
       "      <td>1</td>\n",
       "      <td>0</td>\n",
       "      <td>1</td>\n",
       "      <td>0</td>\n",
       "      <td>1</td>\n",
       "      <td>0</td>\n",
       "    </tr>\n",
       "    <tr>\n",
       "      <th>3420</th>\n",
       "      <td>0</td>\n",
       "      <td>0</td>\n",
       "      <td>0</td>\n",
       "      <td>0</td>\n",
       "      <td>0</td>\n",
       "      <td>0</td>\n",
       "      <td>0</td>\n",
       "      <td>0</td>\n",
       "      <td>0</td>\n",
       "      <td>0</td>\n",
       "      <td>...</td>\n",
       "      <td>1</td>\n",
       "      <td>0</td>\n",
       "      <td>1</td>\n",
       "      <td>0</td>\n",
       "      <td>1</td>\n",
       "      <td>0</td>\n",
       "      <td>1</td>\n",
       "      <td>0</td>\n",
       "      <td>1</td>\n",
       "      <td>0</td>\n",
       "    </tr>\n",
       "    <tr>\n",
       "      <th>3421</th>\n",
       "      <td>7</td>\n",
       "      <td>1</td>\n",
       "      <td>0</td>\n",
       "      <td>0</td>\n",
       "      <td>0</td>\n",
       "      <td>0</td>\n",
       "      <td>0</td>\n",
       "      <td>0</td>\n",
       "      <td>0</td>\n",
       "      <td>0</td>\n",
       "      <td>...</td>\n",
       "      <td>1</td>\n",
       "      <td>0</td>\n",
       "      <td>1</td>\n",
       "      <td>0</td>\n",
       "      <td>1</td>\n",
       "      <td>0</td>\n",
       "      <td>1</td>\n",
       "      <td>0</td>\n",
       "      <td>1</td>\n",
       "      <td>0</td>\n",
       "    </tr>\n",
       "    <tr>\n",
       "      <th>3422</th>\n",
       "      <td>0</td>\n",
       "      <td>0</td>\n",
       "      <td>0</td>\n",
       "      <td>0</td>\n",
       "      <td>0</td>\n",
       "      <td>0</td>\n",
       "      <td>0</td>\n",
       "      <td>0</td>\n",
       "      <td>0</td>\n",
       "      <td>0</td>\n",
       "      <td>...</td>\n",
       "      <td>1</td>\n",
       "      <td>0</td>\n",
       "      <td>1</td>\n",
       "      <td>0</td>\n",
       "      <td>1</td>\n",
       "      <td>0</td>\n",
       "      <td>1</td>\n",
       "      <td>0</td>\n",
       "      <td>1</td>\n",
       "      <td>0</td>\n",
       "    </tr>\n",
       "    <tr>\n",
       "      <th>3423</th>\n",
       "      <td>0</td>\n",
       "      <td>1</td>\n",
       "      <td>0</td>\n",
       "      <td>0</td>\n",
       "      <td>0</td>\n",
       "      <td>0</td>\n",
       "      <td>0</td>\n",
       "      <td>0</td>\n",
       "      <td>0</td>\n",
       "      <td>0</td>\n",
       "      <td>...</td>\n",
       "      <td>1</td>\n",
       "      <td>0</td>\n",
       "      <td>1</td>\n",
       "      <td>0</td>\n",
       "      <td>1</td>\n",
       "      <td>0</td>\n",
       "      <td>1</td>\n",
       "      <td>0</td>\n",
       "      <td>1</td>\n",
       "      <td>0</td>\n",
       "    </tr>\n",
       "  </tbody>\n",
       "</table>\n",
       "<p>3424 rows × 3607 columns</p>\n",
       "</div>"
      ],
      "text/plain": [
       "      Dexa_Freq_During_Rx  Count_Of_Risks  Ptid_P1  Ptid_P10  Ptid_P100  \\\n",
       "0                       0               0        1         0          0   \n",
       "1                       0               0        0         0          0   \n",
       "2                       0               2        0         0          0   \n",
       "3                       0               1        0         0          0   \n",
       "4                       0               1        0         0          0   \n",
       "...                   ...             ...      ...       ...        ...   \n",
       "3419                    0               1        0         0          0   \n",
       "3420                    0               0        0         0          0   \n",
       "3421                    7               1        0         0          0   \n",
       "3422                    0               0        0         0          0   \n",
       "3423                    0               1        0         0          0   \n",
       "\n",
       "      Ptid_P1000  Ptid_P1001  Ptid_P1002  Ptid_P1003  Ptid_P1004  ...  \\\n",
       "0              0           0           0           0           0  ...   \n",
       "1              0           0           0           0           0  ...   \n",
       "2              0           0           0           0           0  ...   \n",
       "3              0           0           0           0           0  ...   \n",
       "4              0           0           0           0           0  ...   \n",
       "...          ...         ...         ...         ...         ...  ...   \n",
       "3419           0           0           0           0           0  ...   \n",
       "3420           0           0           0           0           0  ...   \n",
       "3421           0           0           0           0           0  ...   \n",
       "3422           0           0           0           0           0  ...   \n",
       "3423           0           0           0           0           0  ...   \n",
       "\n",
       "      Risk_Excessive_Thinness_N  Risk_Excessive_Thinness_Y  \\\n",
       "0                             1                          0   \n",
       "1                             1                          0   \n",
       "2                             1                          0   \n",
       "3                             1                          0   \n",
       "4                             1                          0   \n",
       "...                         ...                        ...   \n",
       "3419                          1                          0   \n",
       "3420                          1                          0   \n",
       "3421                          1                          0   \n",
       "3422                          1                          0   \n",
       "3423                          1                          0   \n",
       "\n",
       "      Risk_Hysterectomy_Oophorectomy_N  Risk_Hysterectomy_Oophorectomy_Y  \\\n",
       "0                                    1                                 0   \n",
       "1                                    1                                 0   \n",
       "2                                    1                                 0   \n",
       "3                                    1                                 0   \n",
       "4                                    1                                 0   \n",
       "...                                ...                               ...   \n",
       "3419                                 1                                 0   \n",
       "3420                                 1                                 0   \n",
       "3421                                 1                                 0   \n",
       "3422                                 1                                 0   \n",
       "3423                                 1                                 0   \n",
       "\n",
       "      Risk_Estrogen_Deficiency_N  Risk_Estrogen_Deficiency_Y  \\\n",
       "0                              1                           0   \n",
       "1                              1                           0   \n",
       "2                              1                           0   \n",
       "3                              1                           0   \n",
       "4                              1                           0   \n",
       "...                          ...                         ...   \n",
       "3419                           1                           0   \n",
       "3420                           1                           0   \n",
       "3421                           1                           0   \n",
       "3422                           1                           0   \n",
       "3423                           1                           0   \n",
       "\n",
       "      Risk_Immobilization_N  Risk_Immobilization_Y  Risk_Recurring_Falls_N  \\\n",
       "0                         1                      0                       1   \n",
       "1                         1                      0                       1   \n",
       "2                         1                      0                       1   \n",
       "3                         1                      0                       1   \n",
       "4                         1                      0                       1   \n",
       "...                     ...                    ...                     ...   \n",
       "3419                      1                      0                       1   \n",
       "3420                      1                      0                       1   \n",
       "3421                      1                      0                       1   \n",
       "3422                      1                      0                       1   \n",
       "3423                      1                      0                       1   \n",
       "\n",
       "      Risk_Recurring_Falls_Y  \n",
       "0                          0  \n",
       "1                          0  \n",
       "2                          0  \n",
       "3                          0  \n",
       "4                          0  \n",
       "...                      ...  \n",
       "3419                       0  \n",
       "3420                       0  \n",
       "3421                       0  \n",
       "3422                       0  \n",
       "3423                       0  \n",
       "\n",
       "[3424 rows x 3607 columns]"
      ]
     },
     "execution_count": 9,
     "metadata": {},
     "output_type": "execute_result"
    }
   ],
   "source": [
    "df = pd.get_dummies(df4) # predict\n",
    "df"
   ]
  },
  {
   "cell_type": "code",
   "execution_count": 10,
   "id": "465b56d0",
   "metadata": {},
   "outputs": [],
   "source": [
    "X = df4.drop(columns='Persistency_Flag')\n",
    "y = df4['Persistency_Flag']"
   ]
  },
  {
   "cell_type": "code",
   "execution_count": 11,
   "id": "1cf1d0d5",
   "metadata": {},
   "outputs": [
    {
     "data": {
      "text/plain": [
       "array([1, 0, 0, ..., 1, 0, 0])"
      ]
     },
     "execution_count": 11,
     "metadata": {},
     "output_type": "execute_result"
    }
   ],
   "source": [
    "led = LabelEncoder()\n",
    "y1 = led.fit_transform(np.ravel(y))\n",
    "y1 # Label Encoded target attribute\n",
    "# Persistent - 1; NonPersistent - 0"
   ]
  },
  {
   "cell_type": "code",
   "execution_count": 12,
   "id": "2c17dec2",
   "metadata": {},
   "outputs": [],
   "source": [
    "df = df4.drop('Persistency_Flag', axis = 1)"
   ]
  },
  {
   "cell_type": "code",
   "execution_count": 13,
   "id": "9f21242a",
   "metadata": {},
   "outputs": [
    {
     "name": "stdout",
     "output_type": "stream",
     "text": [
      "['Ptid', 'Gender', 'Race', 'Ethnicity', 'Region', 'Age_Bucket', 'Ntm_Speciality', 'Ntm_Specialist_Flag', 'Ntm_Speciality_Bucket', 'Gluco_Record_Prior_Ntm', 'Gluco_Record_During_Rx', 'Dexa_During_Rx', 'Frag_Frac_Prior_Ntm', 'Frag_Frac_During_Rx', 'Risk_Segment_Prior_Ntm', 'Tscore_Bucket_Prior_Ntm', 'Risk_Segment_During_Rx', 'Tscore_Bucket_During_Rx', 'Change_T_Score', 'Change_Risk_Segment', 'Adherent_Flag', 'Idn_Indicator', 'Injectable_Experience_During_Rx', 'Comorb_Encounter_For_Screening_For_Malignant_Neoplasms', 'Comorb_Encounter_For_Immunization', 'Comorb_Encntr_For_General_Exam_W_O_Complaint,_Susp_Or_Reprtd_Dx', 'Comorb_Vitamin_D_Deficiency', 'Comorb_Other_Joint_Disorder_Not_Elsewhere_Classified', 'Comorb_Encntr_For_Oth_Sp_Exam_W_O_Complaint_Suspected_Or_Reprtd_Dx', 'Comorb_Long_Term_Current_Drug_Therapy', 'Comorb_Dorsalgia', 'Comorb_Personal_History_Of_Other_Diseases_And_Conditions', 'Comorb_Other_Disorders_Of_Bone_Density_And_Structure', 'Comorb_Disorders_of_lipoprotein_metabolism_and_other_lipidemias', 'Comorb_Osteoporosis_without_current_pathological_fracture', 'Comorb_Personal_history_of_malignant_neoplasm', 'Comorb_Gastro_esophageal_reflux_disease', 'Concom_Cholesterol_And_Triglyceride_Regulating_Preparations', 'Concom_Narcotics', 'Concom_Systemic_Corticosteroids_Plain', 'Concom_Anti_Depressants_And_Mood_Stabilisers', 'Concom_Fluoroquinolones', 'Concom_Cephalosporins', 'Concom_Macrolides_And_Similar_Types', 'Concom_Broad_Spectrum_Penicillins', 'Concom_Anaesthetics_General', 'Concom_Viral_Vaccines', 'Risk_Type_1_Insulin_Dependent_Diabetes', 'Risk_Osteogenesis_Imperfecta', 'Risk_Rheumatoid_Arthritis', 'Risk_Untreated_Chronic_Hyperthyroidism', 'Risk_Untreated_Chronic_Hypogonadism', 'Risk_Untreated_Early_Menopause', 'Risk_Patient_Parent_Fractured_Their_Hip', 'Risk_Smoking_Tobacco', 'Risk_Chronic_Malnutrition_Or_Malabsorption', 'Risk_Chronic_Liver_Disease', 'Risk_Family_History_Of_Osteoporosis', 'Risk_Low_Calcium_Intake', 'Risk_Vitamin_D_Insufficiency', 'Risk_Poor_Health_Frailty', 'Risk_Excessive_Thinness', 'Risk_Hysterectomy_Oophorectomy', 'Risk_Estrogen_Deficiency', 'Risk_Immobilization', 'Risk_Recurring_Falls']\n"
     ]
    }
   ],
   "source": [
    "#Performing LabelEncoder for all the non-numeric columns of the dataframe\n",
    "non_numeric_columns = df.select_dtypes(exclude=['float', 'int']).columns.tolist()\n",
    "print(non_numeric_columns)\n",
    "# Apply LabelEncoder to each non-numeric column\n",
    "for i in non_numeric_columns:\n",
    "    led = LabelEncoder()\n",
    "    df[i] = led.fit_transform(df[i].astype(str))"
   ]
  },
  {
   "cell_type": "code",
   "execution_count": 14,
   "id": "8885918d",
   "metadata": {},
   "outputs": [
    {
     "data": {
      "text/html": [
       "<div>\n",
       "<style scoped>\n",
       "    .dataframe tbody tr th:only-of-type {\n",
       "        vertical-align: middle;\n",
       "    }\n",
       "\n",
       "    .dataframe tbody tr th {\n",
       "        vertical-align: top;\n",
       "    }\n",
       "\n",
       "    .dataframe thead th {\n",
       "        text-align: right;\n",
       "    }\n",
       "</style>\n",
       "<table border=\"1\" class=\"dataframe\">\n",
       "  <thead>\n",
       "    <tr style=\"text-align: right;\">\n",
       "      <th></th>\n",
       "      <th>Ptid</th>\n",
       "      <th>Gender</th>\n",
       "      <th>Race</th>\n",
       "      <th>Ethnicity</th>\n",
       "      <th>Region</th>\n",
       "      <th>Age_Bucket</th>\n",
       "      <th>Ntm_Speciality</th>\n",
       "      <th>Ntm_Specialist_Flag</th>\n",
       "      <th>Ntm_Speciality_Bucket</th>\n",
       "      <th>Gluco_Record_Prior_Ntm</th>\n",
       "      <th>...</th>\n",
       "      <th>Risk_Family_History_Of_Osteoporosis</th>\n",
       "      <th>Risk_Low_Calcium_Intake</th>\n",
       "      <th>Risk_Vitamin_D_Insufficiency</th>\n",
       "      <th>Risk_Poor_Health_Frailty</th>\n",
       "      <th>Risk_Excessive_Thinness</th>\n",
       "      <th>Risk_Hysterectomy_Oophorectomy</th>\n",
       "      <th>Risk_Estrogen_Deficiency</th>\n",
       "      <th>Risk_Immobilization</th>\n",
       "      <th>Risk_Recurring_Falls</th>\n",
       "      <th>Count_Of_Risks</th>\n",
       "    </tr>\n",
       "  </thead>\n",
       "  <tbody>\n",
       "    <tr>\n",
       "      <th>0</th>\n",
       "      <td>0</td>\n",
       "      <td>1</td>\n",
       "      <td>2</td>\n",
       "      <td>1</td>\n",
       "      <td>4</td>\n",
       "      <td>3</td>\n",
       "      <td>5</td>\n",
       "      <td>0</td>\n",
       "      <td>1</td>\n",
       "      <td>0</td>\n",
       "      <td>...</td>\n",
       "      <td>0</td>\n",
       "      <td>0</td>\n",
       "      <td>0</td>\n",
       "      <td>0</td>\n",
       "      <td>0</td>\n",
       "      <td>0</td>\n",
       "      <td>0</td>\n",
       "      <td>0</td>\n",
       "      <td>0</td>\n",
       "      <td>0</td>\n",
       "    </tr>\n",
       "    <tr>\n",
       "      <th>1</th>\n",
       "      <td>1111</td>\n",
       "      <td>1</td>\n",
       "      <td>1</td>\n",
       "      <td>1</td>\n",
       "      <td>4</td>\n",
       "      <td>0</td>\n",
       "      <td>5</td>\n",
       "      <td>0</td>\n",
       "      <td>1</td>\n",
       "      <td>0</td>\n",
       "      <td>...</td>\n",
       "      <td>0</td>\n",
       "      <td>0</td>\n",
       "      <td>0</td>\n",
       "      <td>0</td>\n",
       "      <td>0</td>\n",
       "      <td>0</td>\n",
       "      <td>0</td>\n",
       "      <td>0</td>\n",
       "      <td>0</td>\n",
       "      <td>0</td>\n",
       "    </tr>\n",
       "    <tr>\n",
       "      <th>2</th>\n",
       "      <td>2222</td>\n",
       "      <td>0</td>\n",
       "      <td>3</td>\n",
       "      <td>0</td>\n",
       "      <td>0</td>\n",
       "      <td>1</td>\n",
       "      <td>5</td>\n",
       "      <td>0</td>\n",
       "      <td>1</td>\n",
       "      <td>0</td>\n",
       "      <td>...</td>\n",
       "      <td>0</td>\n",
       "      <td>1</td>\n",
       "      <td>0</td>\n",
       "      <td>0</td>\n",
       "      <td>0</td>\n",
       "      <td>0</td>\n",
       "      <td>0</td>\n",
       "      <td>0</td>\n",
       "      <td>0</td>\n",
       "      <td>2</td>\n",
       "    </tr>\n",
       "    <tr>\n",
       "      <th>3</th>\n",
       "      <td>2758</td>\n",
       "      <td>0</td>\n",
       "      <td>2</td>\n",
       "      <td>1</td>\n",
       "      <td>0</td>\n",
       "      <td>3</td>\n",
       "      <td>5</td>\n",
       "      <td>0</td>\n",
       "      <td>1</td>\n",
       "      <td>0</td>\n",
       "      <td>...</td>\n",
       "      <td>0</td>\n",
       "      <td>0</td>\n",
       "      <td>0</td>\n",
       "      <td>0</td>\n",
       "      <td>0</td>\n",
       "      <td>0</td>\n",
       "      <td>0</td>\n",
       "      <td>0</td>\n",
       "      <td>0</td>\n",
       "      <td>1</td>\n",
       "    </tr>\n",
       "    <tr>\n",
       "      <th>4</th>\n",
       "      <td>2869</td>\n",
       "      <td>0</td>\n",
       "      <td>2</td>\n",
       "      <td>1</td>\n",
       "      <td>0</td>\n",
       "      <td>3</td>\n",
       "      <td>5</td>\n",
       "      <td>0</td>\n",
       "      <td>1</td>\n",
       "      <td>1</td>\n",
       "      <td>...</td>\n",
       "      <td>0</td>\n",
       "      <td>0</td>\n",
       "      <td>0</td>\n",
       "      <td>0</td>\n",
       "      <td>0</td>\n",
       "      <td>0</td>\n",
       "      <td>0</td>\n",
       "      <td>0</td>\n",
       "      <td>0</td>\n",
       "      <td>1</td>\n",
       "    </tr>\n",
       "    <tr>\n",
       "      <th>...</th>\n",
       "      <td>...</td>\n",
       "      <td>...</td>\n",
       "      <td>...</td>\n",
       "      <td>...</td>\n",
       "      <td>...</td>\n",
       "      <td>...</td>\n",
       "      <td>...</td>\n",
       "      <td>...</td>\n",
       "      <td>...</td>\n",
       "      <td>...</td>\n",
       "      <td>...</td>\n",
       "      <td>...</td>\n",
       "      <td>...</td>\n",
       "      <td>...</td>\n",
       "      <td>...</td>\n",
       "      <td>...</td>\n",
       "      <td>...</td>\n",
       "      <td>...</td>\n",
       "      <td>...</td>\n",
       "      <td>...</td>\n",
       "      <td>...</td>\n",
       "    </tr>\n",
       "    <tr>\n",
       "      <th>3419</th>\n",
       "      <td>2691</td>\n",
       "      <td>0</td>\n",
       "      <td>2</td>\n",
       "      <td>1</td>\n",
       "      <td>3</td>\n",
       "      <td>3</td>\n",
       "      <td>5</td>\n",
       "      <td>0</td>\n",
       "      <td>1</td>\n",
       "      <td>0</td>\n",
       "      <td>...</td>\n",
       "      <td>0</td>\n",
       "      <td>0</td>\n",
       "      <td>1</td>\n",
       "      <td>0</td>\n",
       "      <td>0</td>\n",
       "      <td>0</td>\n",
       "      <td>0</td>\n",
       "      <td>0</td>\n",
       "      <td>0</td>\n",
       "      <td>1</td>\n",
       "    </tr>\n",
       "    <tr>\n",
       "      <th>3420</th>\n",
       "      <td>2692</td>\n",
       "      <td>0</td>\n",
       "      <td>2</td>\n",
       "      <td>1</td>\n",
       "      <td>3</td>\n",
       "      <td>3</td>\n",
       "      <td>34</td>\n",
       "      <td>0</td>\n",
       "      <td>1</td>\n",
       "      <td>0</td>\n",
       "      <td>...</td>\n",
       "      <td>0</td>\n",
       "      <td>0</td>\n",
       "      <td>0</td>\n",
       "      <td>0</td>\n",
       "      <td>0</td>\n",
       "      <td>0</td>\n",
       "      <td>0</td>\n",
       "      <td>0</td>\n",
       "      <td>0</td>\n",
       "      <td>0</td>\n",
       "    </tr>\n",
       "    <tr>\n",
       "      <th>3421</th>\n",
       "      <td>2693</td>\n",
       "      <td>0</td>\n",
       "      <td>2</td>\n",
       "      <td>1</td>\n",
       "      <td>3</td>\n",
       "      <td>3</td>\n",
       "      <td>3</td>\n",
       "      <td>1</td>\n",
       "      <td>0</td>\n",
       "      <td>0</td>\n",
       "      <td>...</td>\n",
       "      <td>0</td>\n",
       "      <td>0</td>\n",
       "      <td>1</td>\n",
       "      <td>0</td>\n",
       "      <td>0</td>\n",
       "      <td>0</td>\n",
       "      <td>0</td>\n",
       "      <td>0</td>\n",
       "      <td>0</td>\n",
       "      <td>1</td>\n",
       "    </tr>\n",
       "    <tr>\n",
       "      <th>3422</th>\n",
       "      <td>2694</td>\n",
       "      <td>0</td>\n",
       "      <td>2</td>\n",
       "      <td>1</td>\n",
       "      <td>3</td>\n",
       "      <td>0</td>\n",
       "      <td>34</td>\n",
       "      <td>0</td>\n",
       "      <td>1</td>\n",
       "      <td>0</td>\n",
       "      <td>...</td>\n",
       "      <td>0</td>\n",
       "      <td>0</td>\n",
       "      <td>0</td>\n",
       "      <td>0</td>\n",
       "      <td>0</td>\n",
       "      <td>0</td>\n",
       "      <td>0</td>\n",
       "      <td>0</td>\n",
       "      <td>0</td>\n",
       "      <td>0</td>\n",
       "    </tr>\n",
       "    <tr>\n",
       "      <th>3423</th>\n",
       "      <td>2695</td>\n",
       "      <td>0</td>\n",
       "      <td>2</td>\n",
       "      <td>1</td>\n",
       "      <td>3</td>\n",
       "      <td>1</td>\n",
       "      <td>34</td>\n",
       "      <td>0</td>\n",
       "      <td>1</td>\n",
       "      <td>1</td>\n",
       "      <td>...</td>\n",
       "      <td>0</td>\n",
       "      <td>0</td>\n",
       "      <td>1</td>\n",
       "      <td>0</td>\n",
       "      <td>0</td>\n",
       "      <td>0</td>\n",
       "      <td>0</td>\n",
       "      <td>0</td>\n",
       "      <td>0</td>\n",
       "      <td>1</td>\n",
       "    </tr>\n",
       "  </tbody>\n",
       "</table>\n",
       "<p>3424 rows × 68 columns</p>\n",
       "</div>"
      ],
      "text/plain": [
       "      Ptid  Gender  Race  Ethnicity  Region  Age_Bucket  Ntm_Speciality  \\\n",
       "0        0       1     2          1       4           3               5   \n",
       "1     1111       1     1          1       4           0               5   \n",
       "2     2222       0     3          0       0           1               5   \n",
       "3     2758       0     2          1       0           3               5   \n",
       "4     2869       0     2          1       0           3               5   \n",
       "...    ...     ...   ...        ...     ...         ...             ...   \n",
       "3419  2691       0     2          1       3           3               5   \n",
       "3420  2692       0     2          1       3           3              34   \n",
       "3421  2693       0     2          1       3           3               3   \n",
       "3422  2694       0     2          1       3           0              34   \n",
       "3423  2695       0     2          1       3           1              34   \n",
       "\n",
       "      Ntm_Specialist_Flag  Ntm_Speciality_Bucket  Gluco_Record_Prior_Ntm  ...  \\\n",
       "0                       0                      1                       0  ...   \n",
       "1                       0                      1                       0  ...   \n",
       "2                       0                      1                       0  ...   \n",
       "3                       0                      1                       0  ...   \n",
       "4                       0                      1                       1  ...   \n",
       "...                   ...                    ...                     ...  ...   \n",
       "3419                    0                      1                       0  ...   \n",
       "3420                    0                      1                       0  ...   \n",
       "3421                    1                      0                       0  ...   \n",
       "3422                    0                      1                       0  ...   \n",
       "3423                    0                      1                       1  ...   \n",
       "\n",
       "      Risk_Family_History_Of_Osteoporosis  Risk_Low_Calcium_Intake  \\\n",
       "0                                       0                        0   \n",
       "1                                       0                        0   \n",
       "2                                       0                        1   \n",
       "3                                       0                        0   \n",
       "4                                       0                        0   \n",
       "...                                   ...                      ...   \n",
       "3419                                    0                        0   \n",
       "3420                                    0                        0   \n",
       "3421                                    0                        0   \n",
       "3422                                    0                        0   \n",
       "3423                                    0                        0   \n",
       "\n",
       "      Risk_Vitamin_D_Insufficiency  Risk_Poor_Health_Frailty  \\\n",
       "0                                0                         0   \n",
       "1                                0                         0   \n",
       "2                                0                         0   \n",
       "3                                0                         0   \n",
       "4                                0                         0   \n",
       "...                            ...                       ...   \n",
       "3419                             1                         0   \n",
       "3420                             0                         0   \n",
       "3421                             1                         0   \n",
       "3422                             0                         0   \n",
       "3423                             1                         0   \n",
       "\n",
       "      Risk_Excessive_Thinness  Risk_Hysterectomy_Oophorectomy  \\\n",
       "0                           0                               0   \n",
       "1                           0                               0   \n",
       "2                           0                               0   \n",
       "3                           0                               0   \n",
       "4                           0                               0   \n",
       "...                       ...                             ...   \n",
       "3419                        0                               0   \n",
       "3420                        0                               0   \n",
       "3421                        0                               0   \n",
       "3422                        0                               0   \n",
       "3423                        0                               0   \n",
       "\n",
       "      Risk_Estrogen_Deficiency  Risk_Immobilization  Risk_Recurring_Falls  \\\n",
       "0                            0                    0                     0   \n",
       "1                            0                    0                     0   \n",
       "2                            0                    0                     0   \n",
       "3                            0                    0                     0   \n",
       "4                            0                    0                     0   \n",
       "...                        ...                  ...                   ...   \n",
       "3419                         0                    0                     0   \n",
       "3420                         0                    0                     0   \n",
       "3421                         0                    0                     0   \n",
       "3422                         0                    0                     0   \n",
       "3423                         0                    0                     0   \n",
       "\n",
       "      Count_Of_Risks  \n",
       "0                  0  \n",
       "1                  0  \n",
       "2                  2  \n",
       "3                  1  \n",
       "4                  1  \n",
       "...              ...  \n",
       "3419               1  \n",
       "3420               0  \n",
       "3421               1  \n",
       "3422               0  \n",
       "3423               1  \n",
       "\n",
       "[3424 rows x 68 columns]"
      ]
     },
     "execution_count": 14,
     "metadata": {},
     "output_type": "execute_result"
    }
   ],
   "source": [
    "df"
   ]
  },
  {
   "cell_type": "code",
   "execution_count": 15,
   "id": "d1ba1b59",
   "metadata": {},
   "outputs": [],
   "source": [
    "train_X, test_X, train_y, test_y = train_test_split(df, y1, test_size=0.2, random_state=42)"
   ]
  },
  {
   "cell_type": "code",
   "execution_count": 16,
   "id": "052ddc28",
   "metadata": {},
   "outputs": [
    {
     "data": {
      "text/plain": [
       "'Log Reg Precision: 0.8245614035087719'"
      ]
     },
     "metadata": {},
     "output_type": "display_data"
    },
    {
     "data": {
      "text/plain": [
       "'Log Reg Recall: 0.8723897911832946'"
      ]
     },
     "metadata": {},
     "output_type": "display_data"
    },
    {
     "data": {
      "text/plain": [
       "'Log Reg F1: 0.8478015783540023'"
      ]
     },
     "metadata": {},
     "output_type": "display_data"
    },
    {
     "data": {
      "image/png": "[encoded data removed]",
      "text/plain": [
       "<Figure size 640x480 with 2 Axes>"
      ]
     },
     "metadata": {},
     "output_type": "display_data"
    }
   ],
   "source": [
    "# Logistic Regression\n",
    "# fit a model\n",
    "model = LogisticRegression(solver='newton-cg')#, max_iter=3000, penalty='elasticnet',l1_ratio=1)\n",
    "model.fit(train_X, train_y)\n",
    "y_pred = model.predict(test_X)\n",
    "p, r, f, s = precision_recall_fscore_support(test_y,y_pred)\n",
    "display(\"Log Reg Precision: {}\".format(p[0]))\n",
    "display(\"Log Reg Recall: {}\".format(r[0]))\n",
    "display(\"Log Reg F1: {}\".format(f[0]))\n",
    "\n",
    "confusion_matrix = metrics.confusion_matrix(test_y, y_pred)\n",
    "\n",
    "cm_display = metrics.ConfusionMatrixDisplay(confusion_matrix = confusion_matrix, display_labels = ['Persistent', 'NonPersistent'])\n",
    "cm_display.plot()\n",
    "plt.show()"
   ]
  },
  {
   "cell_type": "code",
   "execution_count": null,
   "id": "be8ec4b4",
   "metadata": {},
   "outputs": [],
   "source": []
  },
  {
   "cell_type": "code",
   "execution_count": 17,
   "id": "b443975c",
   "metadata": {},
   "outputs": [
    {
     "data": {
      "text/plain": [
       "'Log Reg Precision: 0.9316546762589928'"
      ]
     },
     "metadata": {},
     "output_type": "display_data"
    },
    {
     "data": {
      "text/plain": [
       "'Log Reg Recall: 0.6009280742459396'"
      ]
     },
     "metadata": {},
     "output_type": "display_data"
    },
    {
     "data": {
      "text/plain": [
       "'Log Reg F1: 0.7306064880112835'"
      ]
     },
     "metadata": {},
     "output_type": "display_data"
    },
    {
     "data": {
      "image/png": "[encoded data removed]",
      "text/plain": [
       "<Figure size 640x480 with 2 Axes>"
      ]
     },
     "metadata": {},
     "output_type": "display_data"
    }
   ],
   "source": [
    "logReg = LogisticRegression(class_weight={0: 0.16, 1: 0.84}, solver='newton-cg')#'liblinear')\n",
    "logReg.fit(train_X, train_y)\n",
    "y_pred = logReg.predict(test_X)\n",
    "p, r, f, s = precision_recall_fscore_support(test_y,y_pred)\n",
    "display(\"Log Reg Precision: {}\".format(p[0]))\n",
    "display(\"Log Reg Recall: {}\".format(r[0]))\n",
    "display(\"Log Reg F1: {}\".format(f[0]))\n",
    "\n",
    "confusion_matrix = metrics.confusion_matrix(test_y, y_pred)\n",
    "\n",
    "cm_display = metrics.ConfusionMatrixDisplay(confusion_matrix = confusion_matrix, display_labels = ['Persistent', 'NonPersistent'])\n",
    "cm_display.plot()\n",
    "plt.show()"
   ]
  },
  {
   "cell_type": "code",
   "execution_count": 18,
   "id": "84f368e0",
   "metadata": {},
   "outputs": [
    {
     "data": {
      "text/plain": [
       "'Log Reg Precision: 0.9285714285714286'"
      ]
     },
     "metadata": {},
     "output_type": "display_data"
    },
    {
     "data": {
      "text/plain": [
       "'Log Reg Recall: 0.6032482598607889'"
      ]
     },
     "metadata": {},
     "output_type": "display_data"
    },
    {
     "data": {
      "text/plain": [
       "'Log Reg F1: 0.7313642756680732'"
      ]
     },
     "metadata": {},
     "output_type": "display_data"
    },
    {
     "data": {
      "image/png": "[encoded data removed]",
      "text/plain": [
       "<Figure size 640x480 with 2 Axes>"
      ]
     },
     "metadata": {},
     "output_type": "display_data"
    }
   ],
   "source": [
    "logReg1 = LogisticRegression(class_weight={0: 0.16, 1: 0.84}, solver='liblinear')\n",
    "logReg1.fit(train_X, train_y)\n",
    "y_pred = logReg1.predict(test_X)\n",
    "p, r, f, s = precision_recall_fscore_support(test_y,y_pred)\n",
    "display(\"Log Reg Precision: {}\".format(p[0]))\n",
    "display(\"Log Reg Recall: {}\".format(r[0]))\n",
    "display(\"Log Reg F1: {}\".format(f[0]))\n",
    "confusion_matrix = metrics.confusion_matrix(test_y, y_pred)\n",
    "\n",
    "cm_display = metrics.ConfusionMatrixDisplay(confusion_matrix = confusion_matrix, display_labels = ['Persistent', 'NonPersistent'])\n",
    "cm_display.plot()\n",
    "plt.show()"
   ]
  },
  {
   "cell_type": "code",
   "execution_count": 19,
   "id": "20f8b952",
   "metadata": {},
   "outputs": [
    {
     "data": {
      "text/plain": [
       "'Log Reg Precision: 0.8219780219780219'"
      ]
     },
     "metadata": {},
     "output_type": "display_data"
    },
    {
     "data": {
      "text/plain": [
       "'Log Reg Recall: 0.8677494199535963'"
      ]
     },
     "metadata": {},
     "output_type": "display_data"
    },
    {
     "data": {
      "text/plain": [
       "'Log Reg F1: 0.8442437923250563'"
      ]
     },
     "metadata": {},
     "output_type": "display_data"
    },
    {
     "data": {
      "image/png": "[encoded data removed]",
      "text/plain": [
       "<Figure size 640x480 with 2 Axes>"
      ]
     },
     "metadata": {},
     "output_type": "display_data"
    }
   ],
   "source": [
    "model1 = LogisticRegression(solver='liblinear')#, max_iter=3000, penalty='elasticnet',l1_ratio=1)\n",
    "model1.fit(train_X, train_y)\n",
    "y_pred = model1.predict(test_X)\n",
    "p, r, f, s = precision_recall_fscore_support(test_y,y_pred)\n",
    "display(\"Log Reg Precision: {}\".format(p[0]))\n",
    "display(\"Log Reg Recall: {}\".format(r[0]))\n",
    "display(\"Log Reg F1: {}\".format(f[0]))\n",
    "confusion_matrix = metrics.confusion_matrix(test_y, y_pred)\n",
    "\n",
    "cm_display = metrics.ConfusionMatrixDisplay(confusion_matrix = confusion_matrix, display_labels = ['Persistent', 'NonPersistent'])\n",
    "cm_display.plot()\n",
    "plt.show()"
   ]
  },
  {
   "cell_type": "code",
   "execution_count": 20,
   "id": "a1d9511d",
   "metadata": {},
   "outputs": [
    {
     "data": {
      "text/plain": [
       "Text(0, 0.5, 'actual')"
      ]
     },
     "execution_count": 20,
     "metadata": {},
     "output_type": "execute_result"
    },
    {
     "data": {
      "image/png": "[encoded data removed]",
      "text/plain": [
       "<Figure size 640x480 with 1 Axes>"
      ]
     },
     "metadata": {},
     "output_type": "display_data"
    }
   ],
   "source": [
    "plt.figure()\n",
    "plt.scatter(y_pred, test_y, c=test_y, cmap='bwr')\n",
    "plt.xlabel('predicted')\n",
    "plt.ylabel('actual')"
   ]
  },
  {
   "cell_type": "code",
   "execution_count": 21,
   "id": "73ff2aba",
   "metadata": {},
   "outputs": [
    {
     "name": "stderr",
     "output_type": "stream",
     "text": [
      "C:\\Users\\saich\\anaconda3\\lib\\site-packages\\sklearn\\svm\\_base.py:1206: ConvergenceWarning: Liblinear failed to converge, increase the number of iterations.\n",
      "  warnings.warn(\n"
     ]
    },
    {
     "data": {
      "text/plain": [
       "'Log Reg Precision: 0.875968992248062'"
      ]
     },
     "metadata": {},
     "output_type": "display_data"
    },
    {
     "data": {
      "text/plain": [
       "'Log Reg Recall: 0.26218097447795824'"
      ]
     },
     "metadata": {},
     "output_type": "display_data"
    },
    {
     "data": {
      "text/plain": [
       "'Log Reg F1: 0.40357142857142864'"
      ]
     },
     "metadata": {},
     "output_type": "display_data"
    },
    {
     "data": {
      "image/png": "[encoded data removed]",
      "text/plain": [
       "<Figure size 640x480 with 2 Axes>"
      ]
     },
     "metadata": {},
     "output_type": "display_data"
    }
   ],
   "source": [
    "support = svm.LinearSVC(random_state=20)\n",
    "\n",
    "# Train the model using the training sets and check score on test dataset\n",
    "support.fit(train_X, train_y)\n",
    "predicted= support.predict(test_X)\n",
    "p, r, f, s =precision_recall_fscore_support(test_y,predicted)\n",
    "display(\"Log Reg Precision: {}\".format(p[0]))\n",
    "display(\"Log Reg Recall: {}\".format(r[0]))\n",
    "display(\"Log Reg F1: {}\".format(f[0]))\n",
    "\n",
    "confusion_matrix = metrics.confusion_matrix(test_y, predicted)\n",
    "\n",
    "cm_display = metrics.ConfusionMatrixDisplay(confusion_matrix = confusion_matrix, display_labels = ['Persistent', 'NonPersistent'])\n",
    "cm_display.plot()\n",
    "plt.show()"
   ]
  },
  {
   "cell_type": "code",
   "execution_count": 22,
   "id": "ab2c5e98",
   "metadata": {},
   "outputs": [],
   "source": [
    "train_X = StandardScaler().fit_transform(train_X)\n",
    "test_X = StandardScaler().fit_transform(test_X)"
   ]
  },
  {
   "cell_type": "code",
   "execution_count": 23,
   "id": "ecb6cfef",
   "metadata": {},
   "outputs": [
    {
     "data": {
      "text/plain": [
       "'Polynomial SVM Precision: 0.8004073319755601'"
      ]
     },
     "metadata": {},
     "output_type": "display_data"
    },
    {
     "data": {
      "text/plain": [
       "'Polynomial SVM Recall: 0.9118329466357309'"
      ]
     },
     "metadata": {},
     "output_type": "display_data"
    },
    {
     "data": {
      "text/plain": [
       "'Polynomial SVM F1: 0.8524945770065078'"
      ]
     },
     "metadata": {},
     "output_type": "display_data"
    },
    {
     "data": {
      "image/png": "[encoded data removed]",
      "text/plain": [
       "<Figure size 640x480 with 2 Axes>"
      ]
     },
     "metadata": {},
     "output_type": "display_data"
    }
   ],
   "source": [
    "svmCLFpoly = svm.SVC(kernel='poly', class_weight='balanced', gamma='scale', degree=3)\n",
    "svmCLFpoly.fit(train_X, train_y)#.values.ravel())\n",
    "\n",
    "y_pred = svmCLFpoly.predict(test_X)\n",
    "p, r, f, s = precision_recall_fscore_support(test_y, y_pred)#, labels=[1])\n",
    "display(\"Polynomial SVM Precision: {}\".format(p[0]))\n",
    "display(\"Polynomial SVM Recall: {}\".format(r[0]))\n",
    "display(\"Polynomial SVM F1: {}\".format(f[0]))\n",
    "\n",
    "# Credit to w3schools for the confusion matrix code\n",
    "confusion_matrix = metrics.confusion_matrix(test_y, y_pred)\n",
    "\n",
    "cm_display = metrics.ConfusionMatrixDisplay(confusion_matrix = confusion_matrix, display_labels = ['Persistent', 'NonPersistent'])\n",
    "cm_display.plot()\n",
    "plt.show()\n"
   ]
  },
  {
   "cell_type": "code",
   "execution_count": 24,
   "id": "6e5654cf",
   "metadata": {},
   "outputs": [
    {
     "data": {
      "text/plain": [
       "'Polynomial SVM Precision: 0.8004073319755601'"
      ]
     },
     "metadata": {},
     "output_type": "display_data"
    },
    {
     "data": {
      "text/plain": [
       "'Polynomial SVM Recall: 0.9118329466357309'"
      ]
     },
     "metadata": {},
     "output_type": "display_data"
    },
    {
     "data": {
      "text/plain": [
       "'Polynomial SVM F1: 0.8524945770065078'"
      ]
     },
     "metadata": {},
     "output_type": "display_data"
    },
    {
     "data": {
      "image/png": "[encoded data removed]",
      "text/plain": [
       "<Figure size 640x480 with 2 Axes>"
      ]
     },
     "metadata": {},
     "output_type": "display_data"
    }
   ],
   "source": [
    "svmCLFpoly = svm.SVC(kernel='poly', class_weight='balanced', gamma='auto', degree=3,decision_function_shape='ovo')# ovr\n",
    "svmCLFpoly.fit(train_X, train_y)#.values.ravel())\n",
    "\n",
    "y_pred = svmCLFpoly.predict(test_X)\n",
    "p, r, f, s = precision_recall_fscore_support(test_y, y_pred)#, labels=[1])\n",
    "display(\"Polynomial SVM Precision: {}\".format(p[0]))\n",
    "display(\"Polynomial SVM Recall: {}\".format(r[0]))\n",
    "display(\"Polynomial SVM F1: {}\".format(f[0]))\n",
    "\n",
    "# Credit to w3schools for the confusion matrix code\n",
    "confusion_matrix = metrics.confusion_matrix(test_y, y_pred)\n",
    "\n",
    "cm_display = metrics.ConfusionMatrixDisplay(confusion_matrix = confusion_matrix, display_labels = ['Persistent', 'NonPersistent'])\n",
    "cm_display.plot()\n",
    "plt.show()\n"
   ]
  },
  {
   "cell_type": "code",
   "execution_count": 25,
   "id": "9300b332",
   "metadata": {},
   "outputs": [
    {
     "data": {
      "text/plain": [
       "'RBF SVM Precision: 0.7986425339366516'"
      ]
     },
     "metadata": {},
     "output_type": "display_data"
    },
    {
     "data": {
      "text/plain": [
       "'RBF SVM Recall: 0.8190255220417634'"
      ]
     },
     "metadata": {},
     "output_type": "display_data"
    },
    {
     "data": {
      "text/plain": [
       "'RBF SVM F1: 0.8087056128293242'"
      ]
     },
     "metadata": {},
     "output_type": "display_data"
    },
    {
     "data": {
      "image/png": "[encoded data removed]",
      "text/plain": [
       "<Figure size 640x480 with 2 Axes>"
      ]
     },
     "metadata": {},
     "output_type": "display_data"
    }
   ],
   "source": [
    "svmCLFrbf = svm.SVC(kernel='rbf', class_weight='balanced', gamma=.1)\n",
    "svmCLFrbf.fit(train_X, train_y)\n",
    "\n",
    "y_pred = svmCLFrbf.predict(test_X)\n",
    "p, r, f, s = precision_recall_fscore_support(test_y, y_pred)\n",
    "display(\"RBF SVM Precision: {}\".format(p[0]))\n",
    "display(\"RBF SVM Recall: {}\".format(r[0]))\n",
    "display(\"RBF SVM F1: {}\".format(f[0]))\n",
    "\n",
    "confusion_matrix = metrics.confusion_matrix(test_y, y_pred)\n",
    "\n",
    "cm_display = metrics.ConfusionMatrixDisplay(confusion_matrix = confusion_matrix, display_labels = ['Persistent', 'NonPersistent'])\n",
    "cm_display.plot()\n",
    "plt.show()\n"
   ]
  },
  {
   "cell_type": "code",
   "execution_count": 26,
   "id": "3526035d",
   "metadata": {},
   "outputs": [
    {
     "name": "stderr",
     "output_type": "stream",
     "text": [
      "C:\\Users\\saich\\anaconda3\\lib\\site-packages\\sklearn\\metrics\\_classification.py:1318: UndefinedMetricWarning: Precision and F-score are ill-defined and being set to 0.0 in labels with no predicted samples. Use `zero_division` parameter to control this behavior.\n",
      "  _warn_prf(average, modifier, msg_start, len(result))\n"
     ]
    },
    {
     "data": {
      "text/plain": [
       "'RBF SVM Precision: 0.6291970802919709'"
      ]
     },
     "metadata": {},
     "output_type": "display_data"
    },
    {
     "data": {
      "text/plain": [
       "'RBF SVM Recall: 1.0'"
      ]
     },
     "metadata": {},
     "output_type": "display_data"
    },
    {
     "data": {
      "text/plain": [
       "'RBF SVM F1: 0.7724014336917563'"
      ]
     },
     "metadata": {},
     "output_type": "display_data"
    },
    {
     "data": {
      "image/png": "[encoded data removed]",
      "text/plain": [
       "<Figure size 640x480 with 2 Axes>"
      ]
     },
     "metadata": {},
     "output_type": "display_data"
    }
   ],
   "source": [
    "svmCLFrbf = svm.SVC(kernel='rbf', class_weight='balanced', gamma=1)\n",
    "svmCLFrbf.fit(train_X, train_y)\n",
    "\n",
    "y_pred = svmCLFrbf.predict(test_X)\n",
    "p, r, f, s = precision_recall_fscore_support(test_y, y_pred)\n",
    "display(\"RBF SVM Precision: {}\".format(p[0]))\n",
    "display(\"RBF SVM Recall: {}\".format(r[0]))\n",
    "display(\"RBF SVM F1: {}\".format(f[0]))\n",
    "\n",
    "confusion_matrix = metrics.confusion_matrix(test_y, y_pred)\n",
    "\n",
    "cm_display = metrics.ConfusionMatrixDisplay(confusion_matrix = confusion_matrix, display_labels = ['Persistent', 'NonPersistent'])\n",
    "cm_display.plot()\n",
    "plt.show()"
   ]
  },
  {
   "cell_type": "code",
   "execution_count": 27,
   "id": "2ca4badd",
   "metadata": {},
   "outputs": [
    {
     "name": "stderr",
     "output_type": "stream",
     "text": [
      "C:\\Users\\saich\\anaconda3\\lib\\site-packages\\sklearn\\metrics\\_classification.py:1318: UndefinedMetricWarning: Precision and F-score are ill-defined and being set to 0.0 in labels with no predicted samples. Use `zero_division` parameter to control this behavior.\n",
      "  _warn_prf(average, modifier, msg_start, len(result))\n"
     ]
    },
    {
     "data": {
      "text/plain": [
       "'RBF SVM Precision: 0.6291970802919709'"
      ]
     },
     "metadata": {},
     "output_type": "display_data"
    },
    {
     "data": {
      "text/plain": [
       "'RBF SVM Recall: 1.0'"
      ]
     },
     "metadata": {},
     "output_type": "display_data"
    },
    {
     "data": {
      "text/plain": [
       "'RBF SVM F1: 0.7724014336917563'"
      ]
     },
     "metadata": {},
     "output_type": "display_data"
    },
    {
     "data": {
      "image/png": "[encoded data removed]",
      "text/plain": [
       "<Figure size 640x480 with 2 Axes>"
      ]
     },
     "metadata": {},
     "output_type": "display_data"
    }
   ],
   "source": [
    "svmCLFrbf = svm.SVC(kernel='rbf', class_weight='balanced', gamma=10)\n",
    "svmCLFrbf.fit(train_X, train_y)\n",
    "\n",
    "y_pred = svmCLFrbf.predict(test_X)\n",
    "p, r, f, s = precision_recall_fscore_support(test_y, y_pred)\n",
    "display(\"RBF SVM Precision: {}\".format(p[0]))\n",
    "display(\"RBF SVM Recall: {}\".format(r[0]))\n",
    "display(\"RBF SVM F1: {}\".format(f[0]))\n",
    "\n",
    "confusion_matrix = metrics.confusion_matrix(test_y, y_pred)\n",
    "\n",
    "cm_display = metrics.ConfusionMatrixDisplay(confusion_matrix = confusion_matrix, display_labels = ['Persistent', 'NonPersistent'])\n",
    "cm_display.plot()\n",
    "plt.show()"
   ]
  },
  {
   "cell_type": "code",
   "execution_count": 28,
   "id": "7f9344aa",
   "metadata": {},
   "outputs": [
    {
     "data": {
      "text/plain": [
       "'Linear SVM Precision: 0.8564356435643564'"
      ]
     },
     "metadata": {},
     "output_type": "display_data"
    },
    {
     "data": {
      "text/plain": [
       "'Linear SVM Recall: 0.802784222737819'"
      ]
     },
     "metadata": {},
     "output_type": "display_data"
    },
    {
     "data": {
      "text/plain": [
       "'Linear SVM F1: 0.8287425149700598'"
      ]
     },
     "metadata": {},
     "output_type": "display_data"
    },
    {
     "data": {
      "image/png": "[encoded data removed]",
      "text/plain": [
       "<Figure size 640x480 with 2 Axes>"
      ]
     },
     "metadata": {},
     "output_type": "display_data"
    }
   ],
   "source": [
    "svmCLFlnr = svm.SVC(kernel='linear', class_weight='balanced', gamma='auto')\n",
    "svmCLFlnr.fit(train_X, train_y)\n",
    "\n",
    "y_pred = svmCLFlnr.predict(test_X)\n",
    "p, r, f, s = precision_recall_fscore_support(test_y, y_pred)\n",
    "display(\"Linear SVM Precision: {}\".format(p[0]))\n",
    "display(\"Linear SVM Recall: {}\".format(r[0]))\n",
    "display(\"Linear SVM F1: {}\".format(f[0]))\n",
    "\n",
    "# Credit to w3schools for the confusion matrix code\n",
    "confusion_matrix = metrics.confusion_matrix(test_y, y_pred)\n",
    "\n",
    "cm_display = metrics.ConfusionMatrixDisplay(confusion_matrix = confusion_matrix, display_labels = ['Persistent', 'NonPersistent'])\n",
    "cm_display.plot()\n",
    "plt.show()\n"
   ]
  },
  {
   "cell_type": "code",
   "execution_count": null,
   "id": "9db1360e",
   "metadata": {},
   "outputs": [],
   "source": []
  }
 ],
 "metadata": {
  "kernelspec": {
   "display_name": "Python 3 (ipykernel)",
   "language": "python",
   "name": "python3"
  },
  "language_info": {
   "codemirror_mode": {
    "name": "ipython",
    "version": 3
   },
   "file_extension": ".py",
   "mimetype": "text/x-python",
   "name": "python",
   "nbconvert_exporter": "python",
   "pygments_lexer": "ipython3",
   "version": "3.9.13"
  }
 },
 "nbformat": 4,
 "nbformat_minor": 5
}
